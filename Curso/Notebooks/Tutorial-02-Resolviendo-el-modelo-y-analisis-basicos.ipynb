{
 "cells": [
  {
   "cell_type": "markdown",
   "metadata": {},
   "source": [
    "# Tutorial 02 - Cómo resolver un modelo a escala genómica y explorar los flujos de reacción que se generan\n",
    "\n",
    "A partir de ahora, todos los ejempos se harán con el modelo iML1515 de E. coli.\n",
    "Revisa el tutorial 01 para conocer los aspectos básicos de los modelos y su manipulación.\n",
    "\n",
    "Este tutorial tiene como objetivo que conozcas la manera en que se resuelve un modelo a escala genómica y cómo trabajar con la solución, o sea, los flujos que se generan para cada reacción. \n",
    "  \n",
    "Si deseas ver toda la documentación de COBRA, visita el sitio https://cobrapy.readthedocs.io/en/latest/"
   ]
  },
  {
   "cell_type": "markdown",
   "metadata": {},
   "source": [
    "## Primero se cargan las librerías  y funciones que usaremos"
   ]
  },
  {
   "cell_type": "code",
   "execution_count": 116,
   "metadata": {},
   "outputs": [],
   "source": [
    "import pandas as pd\n",
    "import numpy as np\n",
    "import matplotlib.pyplot as plt\n",
    "import cobra\n",
    "from cobra.flux_analysis import (single_gene_deletion,\n",
    "                                 single_reaction_deletion,\n",
    "                                 double_gene_deletion,\n",
    "                                 double_reaction_deletion)"
   ]
  },
  {
   "cell_type": "markdown",
   "metadata": {},
   "source": [
    "## Ahora cargamos el modelo"
   ]
  },
  {
   "cell_type": "code",
   "execution_count": 117,
   "metadata": {},
   "outputs": [],
   "source": [
    "model = cobra.io.load_json_model('../Modelos/iML1515.json')"
   ]
  },
  {
   "cell_type": "markdown",
   "metadata": {},
   "source": [
    "## Resolver el modelo significa optimizar la función objetivo\n",
    "\n",
    "Recuerda que la función objetivo básicamente implica maximizar o minimizar una de las reacciones presentes en el modelo, como la de formación de biomasa (esta es la default)"
   ]
  },
  {
   "cell_type": "code",
   "execution_count": 118,
   "metadata": {},
   "outputs": [
    {
     "name": "stdout",
     "output_type": "stream",
     "text": [
      "La expresión de la función objetivo es\n",
      "\n",
      " 1.0*BIOMASS_Ec_iML1515_core_75p37M - 1.0*BIOMASS_Ec_iML1515_core_75p37M_reverse_35685 \n",
      "\n",
      "La dirección de la optimización puede ser hacia minimizar o maximizar. Para esta reacción: \n",
      "\n",
      "model.objective.direction =  max \n",
      "\n",
      " es decir, se maximizará\n"
     ]
    }
   ],
   "source": [
    "print('La expresión de la función objetivo es\\n\\n', model.objective.expression, '\\n')\n",
    "print('La dirección de la optimización puede ser hacia minimizar o maximizar. Para esta reacción:',\n",
    "      '\\n\\nmodel.objective.direction = ', model.objective.direction, '\\n\\n es decir, se maximizará')"
   ]
  },
  {
   "cell_type": "markdown",
   "metadata": {},
   "source": [
    "## Resolviendo el modelo\n",
    "\n",
    "Ahora vamos a resolver el modelo, es decir, generar los flujos de todas las reacciones a partir de la optimización de la función objetivo.\n",
    "\n",
    "Esto se hace escribiendo el nombre del modelo y agregando .optimize()"
   ]
  },
  {
   "cell_type": "code",
   "execution_count": 119,
   "metadata": {},
   "outputs": [
    {
     "data": {
      "text/html": [
       "<strong><em>Optimal</em> solution with objective value 0.877</strong><br><div>\n",
       "<style scoped>\n",
       "    .dataframe tbody tr th:only-of-type {\n",
       "        vertical-align: middle;\n",
       "    }\n",
       "\n",
       "    .dataframe tbody tr th {\n",
       "        vertical-align: top;\n",
       "    }\n",
       "\n",
       "    .dataframe thead th {\n",
       "        text-align: right;\n",
       "    }\n",
       "</style>\n",
       "<table border=\"1\" class=\"dataframe\">\n",
       "  <thead>\n",
       "    <tr style=\"text-align: right;\">\n",
       "      <th></th>\n",
       "      <th>fluxes</th>\n",
       "      <th>reduced_costs</th>\n",
       "    </tr>\n",
       "  </thead>\n",
       "  <tbody>\n",
       "    <tr>\n",
       "      <th>CYTDK2</th>\n",
       "      <td>0.00000</td>\n",
       "      <td>-7.523353e-03</td>\n",
       "    </tr>\n",
       "    <tr>\n",
       "      <th>XPPT</th>\n",
       "      <td>0.00000</td>\n",
       "      <td>-1.504671e-02</td>\n",
       "    </tr>\n",
       "    <tr>\n",
       "      <th>HXPRT</th>\n",
       "      <td>0.00000</td>\n",
       "      <td>-1.504671e-02</td>\n",
       "    </tr>\n",
       "    <tr>\n",
       "      <th>NDPK5</th>\n",
       "      <td>0.00000</td>\n",
       "      <td>-0.000000e+00</td>\n",
       "    </tr>\n",
       "    <tr>\n",
       "      <th>SHK3Dr</th>\n",
       "      <td>0.33424</td>\n",
       "      <td>2.602085e-17</td>\n",
       "    </tr>\n",
       "    <tr>\n",
       "      <th>...</th>\n",
       "      <td>...</td>\n",
       "      <td>...</td>\n",
       "    </tr>\n",
       "    <tr>\n",
       "      <th>MPTS</th>\n",
       "      <td>0.00000</td>\n",
       "      <td>-2.257006e-02</td>\n",
       "    </tr>\n",
       "    <tr>\n",
       "      <th>MOCOS</th>\n",
       "      <td>0.00000</td>\n",
       "      <td>-3.469447e-18</td>\n",
       "    </tr>\n",
       "    <tr>\n",
       "      <th>BMOGDS2</th>\n",
       "      <td>0.00000</td>\n",
       "      <td>-3.338488e-01</td>\n",
       "    </tr>\n",
       "    <tr>\n",
       "      <th>FESD2s</th>\n",
       "      <td>0.00000</td>\n",
       "      <td>-6.938894e-18</td>\n",
       "    </tr>\n",
       "    <tr>\n",
       "      <th>OCTNLL</th>\n",
       "      <td>0.00000</td>\n",
       "      <td>-1.202796e+00</td>\n",
       "    </tr>\n",
       "  </tbody>\n",
       "</table>\n",
       "<p>2712 rows × 2 columns</p>\n",
       "</div>"
      ],
      "text/plain": [
       "<Solution 0.877 at 0x7f93ec95d0b8>"
      ]
     },
     "execution_count": 119,
     "metadata": {},
     "output_type": "execute_result"
    }
   ],
   "source": [
    "model.optimize()"
   ]
  },
  {
   "cell_type": "markdown",
   "metadata": {},
   "source": [
    "Como puedes ver, al resolver (al optimizar) el modelo, se generan los flujos de cada reacción. Por ahora ignora la columna de \"reduced_costs\", la cual no es de importancia en este tutorial.  \n",
    "  \n",
    "Recuerda que puedes guardar la solución al modelo en una variable pero también puedes solo usar model.optimize()"
   ]
  },
  {
   "cell_type": "code",
   "execution_count": 120,
   "metadata": {},
   "outputs": [],
   "source": [
    "solution = model.optimize()"
   ]
  },
  {
   "cell_type": "markdown",
   "metadata": {},
   "source": [
    "Cuando resuelves el modelo, no todas las reacciones adquieren flujo. De hecho, muchas no tienen.  \n",
    "  \n",
    "Puedes determinar fácilmente cuáles reacciones tienen flujo diferente de 0 así:"
   ]
  },
  {
   "cell_type": "code",
   "execution_count": 121,
   "metadata": {},
   "outputs": [
    {
     "name": "stdout",
     "output_type": "stream",
     "text": [
      "En el modelo hay 2712 reacciones\n",
      "De esas, hay 462 reacciones con flujo diferente de 0\n",
      "Las reacciones con flujo son:\n",
      "SHK3Dr 0.334240301365192\n",
      "NDPK8 -0.022947509112696062\n",
      "DHORTS -0.2901062935463692\n",
      "OMPDC 0.2901062935463692\n",
      "PYNP2r 0.022947509112696062\n",
      "G5SD 0.1938646192351536\n",
      "CS 6.913003110880896\n",
      "ICDHyr 6.913003110880896\n",
      "DURIPP -0.022947509112696062\n",
      "PPA 3.0479134880278536\n",
      "APRAUR 0.0003911407576342923\n",
      "TRPAS2 -0.0498511526596722\n",
      "DB4PS 0.0007822815152685846\n",
      "ALAR 0.03655499789174491\n",
      "RBFK 0.00019557037881707824\n",
      "ALATA_L -0.8813874624823901\n",
      "PPM -0.8185400881021329\n",
      "ASPTA -2.5676926153352277\n",
      "RBFSb 0.0003911407576342923\n",
      "EX_pi_e -0.8459567750195798\n",
      "SHCHD2 0.00019557037881721406\n",
      "EX_co2_e 24.00329327297585\n",
      "A5PISO 0.034125715607782214\n",
      "PMDPHT 0.0003911407576342923\n",
      "CPPPGO 0.00019557037881721406\n",
      "GTHOr 0.21704102462081576\n",
      "ILETA -0.2547931237102528\n",
      "DHORD5 0.2901062935463692\n",
      "IPPMIb -0.39511443201299673\n",
      "ORPT -0.2901062935463692\n",
      "RBFSa 0.0007822815152685846\n",
      "ACHBS 0.2547931237102528\n",
      "PFK_3 6.175949880064374\n",
      "DHAD2 0.2547931237102528\n",
      "ACLS 0.7668174233868661\n",
      "PSCVT 0.334240301365192\n",
      "ANS 0.04985115265967218\n",
      "FRD2 0.2901062935463692\n",
      "ANPRT 0.04985115265967218\n",
      "CHORM 0.28360686719025086\n",
      "PTAr -0.51057550027838\n",
      "CHORS 0.334240301365192\n",
      "IGPS 0.04985115265967218\n",
      "ACKr 0.51057550027838\n",
      "EX_fe3_e 1.734825821321082e-18\n",
      "LEUTAi 0.39511443201299673\n",
      "EX_h_e 8.058200328043473\n",
      "DMATT 0.0002438052256106969\n",
      "GRTT 0.0002438052256106969\n",
      "UPP3S 0.0003911407576344281\n",
      "UPPDC1 0.00019557037881721406\n",
      "EX_mn2_e -0.0006060050751690353\n",
      "MOAT 0.017062857803891107\n",
      "UDCPDPS 4.823484679348284e-05\n",
      "ECOAH6 0.24385433745470525\n",
      "USHD 0.017062857803891107\n",
      "ENO 15.598897532203482\n",
      "HCO3E 0.46097078383596857\n",
      "IMPC -0.4757990527374998\n",
      "IMPD 0.21331027847064277\n",
      "ECOAH4 0.3121057686702697\n",
      "LPADSS 0.017062857803891107\n",
      "GLUTRS 0.003129126061075425\n",
      "TDSK 0.017062857803891107\n",
      "PGI 7.6446337802058935\n",
      "TMPPP 0.00019557037881721406\n",
      "PGK -17.10543360355004\n",
      "PGL 2.3553662197941017\n",
      "RPE 0.8899957028434263\n",
      "DHQTi 0.334240301365192\n",
      "IPMD 0.39511443201299673\n",
      "AIRC3 -0.3927140906371176\n",
      "TALA -5.564027448338883\n",
      "PUNP1 -0.023537728238005415\n",
      "PUNP2 0.022947509112696062\n",
      "ADSL2r 0.3927140906371176\n",
      "TKT1 0.611922431725492\n",
      "EX_fe2_e -0.014085452260911546\n",
      "TMDS 0.022947509112696062\n",
      "PPCDC 0.0005910961225243927\n",
      "EX_glc__D_e -10.0\n",
      "DHAD1 0.7668174233868661\n",
      "IPPMIa -0.39511443201299673\n",
      "MDH 6.884588401133477\n",
      "FUM 6.884588401133477\n",
      "FMNAT 0.00019557037881707824\n",
      "OHPBAT -0.0003911407576345471\n",
      "KARA1 -0.7668174233868661\n",
      "KARA2 0.2547931237102528\n",
      "ACCOAC 0.06825669319885094\n",
      "NADK 0.0003920177548488897\n",
      "GLUTRR 0.003129126061075425\n",
      "NTD2 0.022947509112696062\n",
      "NTD6 0.022947509112696062\n",
      "HACD6 0.24385433745470525\n",
      "ECOAH1 0.3121057686702697\n",
      "ECOAH2 0.3121057686702697\n",
      "ARGSS 0.2594087600497819\n",
      "AGPR -0.2594087600497819\n",
      "G1SAT 0.003129126061075425\n",
      "KDOCT2 0.034125715607782214\n",
      "ECOAH3 0.3121057686702697\n",
      "DXPS 0.0024862871029004445\n",
      "CDPMEK 0.0020951463452660163\n",
      "MECDPS 0.0020951463452660163\n",
      "PGAMT -0.08286571279677543\n",
      "UAGDP 0.08286571279677543\n",
      "UAGCVT 0.02436999859449661\n",
      "GLUR -0.02436999859449661\n",
      "GLYCL 0.047540703498268444\n",
      "NNDPR 0.001997799654464642\n",
      "PPC 2.5961073250826576\n",
      "HACD4 0.3121057686702697\n",
      "EX_zn2_e -0.0002990560501195963\n",
      "HACD5 0.3121057686702697\n",
      "HACD7 0.24385433745470525\n",
      "DNMPPA 0.0005867111364517612\n",
      "HPPK2 0.0005867111364517612\n",
      "PTPATi 0.0005910961225243927\n",
      "DXPRIi 0.0020951463452660163\n",
      "GTPCII2 0.0003911407576342923\n",
      "SADT2 0.21704102462081576\n",
      "OPHBDC 0.00019557037881721406\n",
      "GHMT2r 0.9783188951027644\n",
      "SDPDS 0.32532123969446963\n",
      "ADCS 0.0005867111364517612\n",
      "ADCL 0.0005867111364517612\n",
      "DHAPT 2.2758138901881693\n",
      "UMPK 0.3085916408320608\n",
      "DURIK1 0.022947509112696062\n",
      "UAPGR 0.02436999859449661\n",
      "CTPS2 0.1407799778458892\n",
      "PAPPT3 0.02436999859449661\n",
      "UAGPT3 0.02436999859449661\n",
      "TRPS3 0.04985115265967218\n",
      "F6PA 2.2758138901881693\n",
      "FADRx 1.9170194410437669\n",
      "ADK1 2.1986372785517148\n",
      "NDPK2 0.35002449723044854\n",
      "NDPK3 0.15873912680292523\n",
      "NDPK4 0.022947509112696062\n",
      "ACODA 0.2594087600497819\n",
      "FCLT 0.00019557037881721406\n",
      "HBZOPT 0.00019557037881721406\n",
      "PNTK 0.0005910961225243927\n",
      "ADSS 0.262488774266857\n",
      "OCTDPS 0.00019557037881721406\n",
      "DPCOAK 0.0005910961225243927\n",
      "ASNS2 0.21140456352369297\n",
      "ASPCT 0.2901062935463692\n",
      "KDOPS 0.034125715607782214\n",
      "KDOPP 0.034125715607782214\n",
      "DMPPS 0.0002438052256106969\n",
      "MCOATA 0.0682549392044221\n",
      "IPDPS 0.0018513411196553265\n",
      "DAPE 0.32532123969446963\n",
      "DHDPRy 0.32532123969446963\n",
      "HSK 0.4772759160465872\n",
      "SDPTA -0.32532123969446963\n",
      "THRS 0.4772759160465872\n",
      "HSST 0.1349795182696692\n",
      "PPNDH 0.16247688893081239\n",
      "DTMPK 0.022947509112696062\n",
      "DDPA 0.334240301365192\n",
      "RHCCE 0.00039289475206328206\n",
      "G3PD2 -0.12192716872735263\n",
      "AACPS3 0.11192940048288517\n",
      "U23GAAT 0.034125715607782214\n",
      "UAAGDS 0.02436999859449661\n",
      "AACPS4 0.13192493697182006\n",
      "UAMAS 0.02436999859449661\n",
      "UAMAGS 0.02436999859449661\n",
      "P5CR 0.1938646192351536\n",
      "DHPPDA2 0.0003911407576342923\n",
      "G5SADs 0.1938646192351536\n",
      "AKGDH 5.970062721906733\n",
      "ASP1DC 0.0005910961225243927\n",
      "UGMDDS 0.02436999859449661\n",
      "DBTS 1.7539944288539373e-06\n",
      "UHGADA 0.034125715607782214\n",
      "UAGAAT 0.034125715607782214\n",
      "ATPPRT 0.08308496210038217\n",
      "HISTD 0.08308496210038217\n",
      "DHDPS 0.32532123969446963\n",
      "G1PACT 0.08286571279677543\n",
      "GART 0.002151274166989066\n",
      "GF6PTA 0.08286571279677543\n",
      "IGPDH 0.08308496210038217\n",
      "PRATPP 0.08308496210038217\n",
      "PRMICI 0.08308496210038217\n",
      "GLUPRT 0.39290966101593483\n",
      "SERAT 0.21704102462081576\n",
      "CYSS 0.21704102462081576\n",
      "NADS1 0.001997799654464642\n",
      "BPNT 0.21704102462081576\n",
      "ASPK 0.9375766740107261\n",
      "ASAD -0.9375766740107261\n",
      "DAPDC 0.300951241099973\n",
      "OCBT 0.2594087600497819\n",
      "GARFT 0.39075838684894565\n",
      "PHETA1 -0.16247688893081239\n",
      "PPND 0.1211299782594385\n",
      "METAT 0.000787543498555418\n",
      "PRAMPC 0.08308496210038217\n",
      "TMPK 0.00019557037881721406\n",
      "ACOTA -0.2594087600497819\n",
      "PDX5PS 0.00019557037881721406\n",
      "PPBNGS 0.0015645630305377125\n",
      "SULR 0.21704102462081576\n",
      "CBMKr 0.549515053596151\n",
      "PPNCL2 0.0005910961225243927\n",
      "PRAGSr 0.39290966101593483\n",
      "PRFGS 0.39290966101593483\n",
      "NNATr 0.001997799654464642\n",
      "PSERT 1.5065360713465572\n",
      "AIRC2 0.3927140906371176\n",
      "GAPD 17.10543360355004\n",
      "GND 2.3553662197941017\n",
      "DM_amob_c 1.7539944288539373e-06\n",
      "MOAT2 0.017062857803891107\n",
      "G6PDH2r 2.3553662197941017\n",
      "ARGSL 0.2594087600497819\n",
      "GLU5K 0.1938646192351536\n",
      "IPPS 0.39511443201299673\n",
      "EX_mg2_e -0.007607950835153954\n",
      "MOHMT 0.0005910961225243927\n",
      "SPODM 0.003423797125122886\n",
      "AHCYSNS 0.00039289475206328206\n",
      "GMPS 0.21331027847064277\n",
      "CHRPL 0.00019557037881721406\n",
      "FBA3 6.175949880064374\n",
      "PMPK 0.00019557037881721406\n",
      "ACACT7r 0.24385433745470525\n",
      "PSP_L 1.5065360713465572\n",
      "ADK3 -0.6928400773583155\n",
      "GLUDC 1.11352448058537e-15\n",
      "ACACT2r 0.3121057686702697\n",
      "ADSK 0.21704102462081576\n",
      "ACACT3r 0.3121057686702697\n",
      "ACACT4r 0.3121057686702697\n",
      "HSDy -0.6122554343162564\n",
      "CYSTL 0.1349795182696692\n",
      "SHSL1 0.1349795182696692\n",
      "SSALy 1.11352448058537e-15\n",
      "EX_ca2_e -0.004564770501092373\n",
      "Kt2pp 0.17118371727564333\n",
      "Htex -8.058200328043473\n",
      "H2Otex -47.16236480869433\n",
      "O2tpp 22.131763238945837\n",
      "GTPCI 0.0005867111364517612\n",
      "TKT2 0.27807327111793423\n",
      "UDCPDP 0.02436999859449661\n",
      "ATPS4rpp 70.43249366231497\n",
      "CYTK1 0.15873912680292523\n",
      "CO2tpp -24.00329327297585\n",
      "GK1 0.21331027847064277\n",
      "HACD1 0.3121057686702697\n",
      "Ktex 0.17118371727564333\n",
      "O2tex 22.131763238945837\n",
      "HACD2 0.3121057686702697\n",
      "ECOAH5 0.3121057686702697\n",
      "DHFS 0.0005867111364517612\n",
      "EX_ni2_e -0.00028327010025991096\n",
      "GLCtex_copy1 9.999999999999995\n",
      "PItex 0.8459567750195798\n",
      "EX_meoh_e 1.7539944288539373e-06\n",
      "METS 0.13537241302173247\n",
      "ASPO3 0.001997799654464642\n",
      "EX_cu2_e -0.0006217910250287209\n",
      "ACACT5r 0.3121057686702697\n",
      "PRASCSi 0.3927140906371176\n",
      "FE2tex 0.014085452260911546\n",
      "DHPS2 0.0005867111364517612\n",
      "MTHFC 0.8667530099652626\n",
      "MTHFD 0.8667530099652626\n",
      "QULNS 0.001997799654464642\n",
      "EX_cobalt2_e -2.192493036067422e-05\n",
      "ACACT6r 0.24385433745470525\n",
      "SO4tex 0.22084543853699995\n",
      "ARBTNR1 1.734723475976807e-18\n",
      "ARBTNexs 3.469446951953614e-18\n",
      "R1PK 0.817949868976823\n",
      "PAPSR2 0.21704102462081576\n",
      "GRXR 0.21704102462081576\n",
      "R15BPK 0.817949868976823\n",
      "FACOAE160 0.11192940048288519\n",
      "NH4tpp 9.471495371048078\n",
      "MOBDabcpp 6.138980500988782e-06\n",
      "MOBDtex 6.138980500988782e-06\n",
      "ARBTNtonex 3.469446951953614e-18\n",
      "NI2tex 0.00028327010025991096\n",
      "DNTPPA 0.0005867111364517612\n",
      "NH4tex 9.471495371048078\n",
      "FE3tex -1.734825821321082e-18\n",
      "MG2tex 0.007607950835153954\n",
      "Zn2tex 0.0002990560501195963\n",
      "GLYCLTt4pp 0.004564770501092373\n",
      "H2Otpp -47.16236480869433\n",
      "CO2tex -24.00329327297585\n",
      "ACGK 0.2594087600497819\n",
      "COBALT2tex 2.192493036067422e-05\n",
      "HMBS 0.0003911407576344281\n",
      "MEPCT 0.0020951463452660163\n",
      "GLUDy -7.499494782138836\n",
      "GLCptspp 9.999999999999995\n",
      "EX_h2o_e 47.16236480869433\n",
      "HSTPT 0.08308496210038217\n",
      "THDPS 0.32532123969446963\n",
      "ATPM 6.86\n",
      "THRD_L 0.2547931237102528\n",
      "GLYCLTt2rpp -0.004564770501092373\n",
      "DHFR 0.023534220249147822\n",
      "PRAIi 0.04985115265967218\n",
      "HACD3 0.3121057686702697\n",
      "TYRTA -0.1211299782594385\n",
      "SHKK 0.334240301365192\n",
      "ARBTNabcpp 3.469446951953614e-18\n",
      "EX_mobd_e -6.138980500988782e-06\n",
      "EX_so4_e -0.22084543853699995\n",
      "OMCDC 0.39511443201299673\n",
      "E4PD -0.0003911407576345471\n",
      "IG3PS 0.08308496210038217\n",
      "PDH 9.689686793405697\n",
      "MTHFR2 0.13537241302173247\n",
      "EX_nh4_e -9.471495371048078\n",
      "DADK -0.022947509112696062\n",
      "DPR 0.0005910961225243927\n",
      "AMAOTr 1.7539944288539373e-06\n",
      "GLNS 1.3737784255196415\n",
      "EX_k_e -0.17118371727564333\n",
      "ACACT1r 0.3121057686702697\n",
      "ACGS 0.2594087600497819\n",
      "CU2tex 0.0006217910250287209\n",
      "ALAALAr 0.02436999859449661\n",
      "CLtex 0.004564770501092373\n",
      "ADNK1 0.023537728238005415\n",
      "MNtex 0.0006060050751690353\n",
      "SHCHF 0.00019557037881721406\n",
      "SUCOAS -5.509676018215582\n",
      "PRAIS 0.39290966101593483\n",
      "AACPS9 -1.3877787807814457e-17\n",
      "AACPS7 0.06825143121556444\n",
      "PANTS 0.0005910961225243927\n",
      "ECOAH7 0.24385433745470525\n",
      "HISTP 0.08308496210038217\n",
      "QMO2 0.003423797125122887\n",
      "UPP3MT 0.00019557037881721406\n",
      "DHQS 0.334240301365192\n",
      "DASYN160 0.05596470024144259\n",
      "DASYN161 0.06596246848591003\n",
      "PGCD 1.5065360713465572\n",
      "FACOAE80 -1.3877787807814457e-17\n",
      "FACOAE161 0.13192493697182006\n",
      "ADSL1r 0.262488774266857\n",
      "AICART 0.4757990527374998\n",
      "EX_cl_e -0.004564770501092373\n",
      "PPPGO3 0.00019557037881721403\n",
      "PDX5PO2 0.000195570378817214\n",
      "PGM -15.598897532203482\n",
      "CYTBO3_4pp 44.25628774288379\n",
      "TPI 8.32823169662279\n",
      "MPTG 0.012184999297248304\n",
      "RPI -1.4304625198276248\n",
      "MCTP1App 0.012184999297248304\n",
      "PERD -0.0003911407576345471\n",
      "5DOAN 0.000197324373246068\n",
      "DM_5drib_c 0.000197324373246068\n",
      "K2L4Aabcpp 0.017062857803891107\n",
      "FACOAE120 0.06825143121556444\n",
      "3OAR120 -1.3877787807814457e-17\n",
      "3HAD120 -1.3877787807814457e-17\n",
      "SO4t2pp 0.22084543853699995\n",
      "AMPMS2 0.00019557037881721406\n",
      "PSSA161 0.06596246848591003\n",
      "PSD160 0.05596470024144259\n",
      "PSD161 0.06596246848591003\n",
      "ACONTb 6.913003110880896\n",
      "CA2tex 0.004564770501092373\n",
      "SUCDi 6.260669780862541\n",
      "EX_o2_e -22.131763238945837\n",
      "G3PAT160 0.05596470024144259\n",
      "AGPAT160 0.05596470024144259\n",
      "3OAS140 0.06825143121556443\n",
      "3OAR140 0.06825143121556443\n",
      "PE160abcpp 0.05596470024144259\n",
      "PE161abcpp 0.06596246848591003\n",
      "ACONTa 6.913003110880896\n",
      "PSSA160 0.05596470024144259\n",
      "EAR120x -1.3877787807814457e-17\n",
      "3OAS100 -1.3877787807814457e-17\n",
      "3OAS120 -1.3877787807814457e-17\n",
      "3OAR100 -1.3877787807814457e-17\n",
      "3HAD100 -1.3877787807814457e-17\n",
      "AGPAT161 0.06596246848591003\n",
      "ZN2tpp 0.0002990560501195963\n",
      "NI2tpp 0.00028327010025991096\n",
      "EX_arbtn_e -3.469446951953614e-18\n",
      "ACOAD7f -0.11192940048288519\n",
      "ACOAD5f -0.3121057686702697\n",
      "CAt6pp -0.004564770501092373\n",
      "ACOAD3f -0.3121057686702697\n",
      "ACOAD2f -0.3121057686702697\n",
      "ACOAD4f -0.3121057686702697\n",
      "ACOAD6f -0.24385433745470525\n",
      "NADH16pp 37.99704395949191\n",
      "OPHHX3 0.00019557037881721406\n",
      "COBALT2tpp 2.192493036067422e-05\n",
      "DALAt2pp 0.012184999297248304\n",
      "FE2tpp 0.014085452260911544\n",
      "MN2tpp 0.0006060050751690353\n",
      "CLt3_2pp 0.0022823852505461863\n",
      "POR5 0.09537783205500498\n",
      "MALCOAMT 1.7539944288539373e-06\n",
      "CU2tpp 0.0006217910250287209\n",
      "MG2t3_2pp 0.007607950835153954\n",
      "OGMEACPS 1.7539944288539373e-06\n",
      "OGMEACPR 1.7539944288539373e-06\n",
      "OPMEACPS 1.7539944288539373e-06\n",
      "CTECOAI7 -0.13192493697182006\n",
      "K2L4Aabctex 0.017062857803891107\n",
      "OPMEACPD 1.7539944288539373e-06\n",
      "EPMEACPR 1.7539944288539373e-06\n",
      "AOXSr2 1.7539944288539373e-06\n",
      "MEOHtrpp -1.7539944288539373e-06\n",
      "S2FE2SS -1.0842021724855044e-19\n",
      "S4FE4SR -5.421010862427522e-20\n",
      "OGMEACPD 1.7539944288539373e-06\n",
      "EGMEACPR 1.7539944288539373e-06\n",
      "OPMEACPR 1.7539944288539373e-06\n",
      "PMEACPE 1.7539944288539373e-06\n",
      "ACPPAT161 0.06596246848591003\n",
      "APG3PAT161 0.06596246848591003\n",
      "MEOHtex -1.7539944288539373e-06\n",
      "ICYSDS 0.0011550053314003193\n",
      "MECDPDH5 0.0020951463452660163\n",
      "RNTR1c2 0.045895018225392124\n",
      "RNTR2c2 0.023693833742173417\n",
      "I4FE4SR 0.0002280192757510122\n",
      "S2FE2ST -6.776263578034403e-20\n",
      "RNTR3c2 0.023693833742173417\n",
      "I2FE2SS 0.00025082120332611346\n",
      "I2FE2ST 2.45559220039552e-05\n",
      "FESR 0.006847594250245772\n",
      "I2FE2SS2 0.0002280192757510122\n",
      "I4FE4ST 0.0002280192757510122\n",
      "S4FE4ST -5.421010862427522e-20\n",
      "BTS5 1.7539944288539373e-06\n",
      "VPAMTr 0.3711118952513449\n",
      "DM_4crsol_c 0.00019557037881721406\n",
      "ACOAD1fr 0.3121057686702697\n",
      "AI2K 0.00039289475206328206\n",
      "DHNPA2r 0.0005867111364517612\n",
      "PIt2rpp 0.8459567750195798\n",
      "PAI2I 0.00039289475206328206\n",
      "FESD1s 0.003423797125122886\n",
      "4HTHRA -0.0005867111364517612\n",
      "I2FE2SR 1.7539944288539377e-06\n",
      "TYRL 0.00019557037881721406\n",
      "THZPSN3 0.00019557037881721406\n",
      "PAI2T 0.00039289475206328206\n",
      "4HTHRK 0.0005867111364517612\n",
      "BIOMASS_Ec_iML1515_core_75p37M 0.8769972144269688\n"
     ]
    }
   ],
   "source": [
    "print('En el modelo hay', len(model.reactions), 'reacciones')\n",
    "print('De esas, hay', len(model.optimize().fluxes.loc[model.optimize().fluxes != 0]),\n",
    "      'reacciones con flujo diferente de 0')\n",
    "print('Las reacciones con flujo son:')\n",
    "for reaction,flux in zip(model.optimize().fluxes.index,\n",
    "                         model.optimize().fluxes):\n",
    "    if flux != 0:\n",
    "        print(reaction, flux)"
   ]
  },
  {
   "cell_type": "markdown",
   "metadata": {},
   "source": [
    "Los flujos simulados anteriormente dependen tanto de la función objetivo como de la composición del medio de cultivo hipotético. Anteriormente vimos cómo conocer la función objetivo. Para saber la composición del medio debemos revisar ciertos parámetros predeterminados (o default) del modelo."
   ]
  },
  {
   "cell_type": "markdown",
   "metadata": {},
   "source": [
    "## Revisando los parámetros predeterminados del modelo\n",
    "\n",
    "Ahora vamos a explorar los parámetros del modelo. Con esto básicamente nos referimos a aquellas reacciones de intercambio entre el medio y la célula (ambos hipotéticos) que tengan un flujo diferente de cero.  \n",
    "Entre estas reacciones está la reacción de intercambio de una fuente de carbono predeterminada: glucosa"
   ]
  },
  {
   "cell_type": "code",
   "execution_count": 122,
   "metadata": {},
   "outputs": [
    {
     "data": {
      "text/plain": [
       "{'EX_pi_e': 1000.0,\n",
       " 'EX_co2_e': 1000.0,\n",
       " 'EX_fe3_e': 1000.0,\n",
       " 'EX_h_e': 1000.0,\n",
       " 'EX_mn2_e': 1000.0,\n",
       " 'EX_fe2_e': 1000.0,\n",
       " 'EX_glc__D_e': 10.0,\n",
       " 'EX_zn2_e': 1000.0,\n",
       " 'EX_mg2_e': 1000.0,\n",
       " 'EX_ca2_e': 1000.0,\n",
       " 'EX_ni2_e': 1000.0,\n",
       " 'EX_cu2_e': 1000.0,\n",
       " 'EX_sel_e': 1000.0,\n",
       " 'EX_cobalt2_e': 1000.0,\n",
       " 'EX_h2o_e': 1000.0,\n",
       " 'EX_mobd_e': 1000.0,\n",
       " 'EX_so4_e': 1000.0,\n",
       " 'EX_nh4_e': 1000.0,\n",
       " 'EX_k_e': 1000.0,\n",
       " 'EX_na1_e': 1000.0,\n",
       " 'EX_cl_e': 1000.0,\n",
       " 'EX_o2_e': 1000.0,\n",
       " 'EX_tungs_e': 1000.0,\n",
       " 'EX_slnt_e': 1000.0}"
      ]
     },
     "execution_count": 122,
     "metadata": {},
     "output_type": "execute_result"
    }
   ],
   "source": [
    "model.medium"
   ]
  },
  {
   "cell_type": "markdown",
   "metadata": {},
   "source": [
    "Al ejecutar el código anterior se muetran todas las reacciones que tienen un flujo de intercambio (entre el mdeio y la célula) diferente de cero.  \n",
    "  \n",
    "# Ten cuidado!  \n",
    "  \n",
    "Los flujos que se muestran corresponden al consumo de reactivos de cada reacción mostrada. Todas esas son reacciones de entrada HACIA la célula. En otras palabras, se muestra el lower bound de las reacciones. Por ejemplo, para glucosa:  "
   ]
  },
  {
   "cell_type": "code",
   "execution_count": 123,
   "metadata": {},
   "outputs": [
    {
     "data": {
      "text/html": [
       "\n",
       "        <table>\n",
       "            <tr>\n",
       "                <td><strong>Reaction identifier</strong></td><td>EX_glc__D_e</td>\n",
       "            </tr><tr>\n",
       "                <td><strong>Name</strong></td><td>D-Glucose exchange</td>\n",
       "            </tr><tr>\n",
       "                <td><strong>Memory address</strong></td>\n",
       "                <td>0x07f93ebc55400</td>\n",
       "            </tr><tr>\n",
       "                <td><strong>Stoichiometry</strong></td>\n",
       "                <td>\n",
       "                    <p style='text-align:right'>glc__D_e <=></p>\n",
       "                    <p style='text-align:right'>D-Glucose <=></p>\n",
       "                </td>\n",
       "            </tr><tr>\n",
       "                <td><strong>GPR</strong></td><td></td>\n",
       "            </tr><tr>\n",
       "                <td><strong>Lower bound</strong></td><td>-10.0</td>\n",
       "            </tr><tr>\n",
       "                <td><strong>Upper bound</strong></td><td>1000.0</td>\n",
       "            </tr>\n",
       "        </table>\n",
       "        "
      ],
      "text/plain": [
       "<Reaction EX_glc__D_e at 0x7f93ebc55400>"
      ]
     },
     "execution_count": 123,
     "metadata": {},
     "output_type": "execute_result"
    }
   ],
   "source": [
    "model.reactions.EX_glc__D_e"
   ]
  },
  {
   "cell_type": "markdown",
   "metadata": {},
   "source": [
    "Como puedes ver, el lower bound del intercambio de glucosa es de -10. Este valor se muestra como \"10\" en la celda anterior.  \n",
    "  \n",
    "## Para evitar confusiones\n",
    "\n",
    "es mejor no utilizar la función model.medium excepto que sea estrictamente necesario.  \n",
    "  \n",
    "## Recuerda\n",
    "\n",
    "que para que un ingrediente del medio de cultivo hipotético entre a la célula, debemos indicarlo en su reacción de entrada a la célula. Por ejemplo, veamos gráficamente el efecto de diferentes valores de la entrada de glucosa sobre la velocidad de crecimiento.\n",
    "\n",
    "## Es importante que notes  \n",
    "  \n",
    "que para evitar modificar los parámetros del objeto \"modelo\", vamos a trabajar con este usando la función \"with __ as \\__\""
   ]
  },
  {
   "cell_type": "code",
   "execution_count": 124,
   "metadata": {},
   "outputs": [
    {
     "name": "stderr",
     "output_type": "stream",
     "text": [
      "/usr/local/lib/python3.6/dist-packages/cobra/util/solver.py:554: UserWarning: Solver status is 'infeasible'.\n",
      "  warn(f\"Solver status is '{status}'.\", UserWarning)\n"
     ]
    },
    {
     "data": {
      "image/png": "[encoded data removed]",
      "text/plain": [
       "<matplotlib.figure.Figure at 0x7f93ee899ac8>"
      ]
     },
     "metadata": {
      "needs_background": "light"
     },
     "output_type": "display_data"
    }
   ],
   "source": [
    "flujos_de_entrada = [-20, -10, -1, -0.1, 0] # Flujos de entrada de glucosa, o sea,\n",
    "                                            # los lower bound de la reacción EX_glc__D_e\n",
    "\n",
    "plt.figure(figsize = (7, 6)) # Generamos una figura con esas dimensiones\n",
    "\n",
    "plt.title('Efecto del flujo de entrada de glucosa sobre la velocidad de crecimiento', fontsize = 13)\n",
    "\n",
    "for flujo in flujos_de_entrada: # Hacemos un loop sobre cada flujo\n",
    "    with model as test_model:   # En cada iteración, usaremos test_model como equivalente a nuestro objeto \"model\"\n",
    "        test_model.reactions.get_by_id('EX_glc__D_e').lower_bound = flujo # Cambiamos el lower bound de EX_glc__D_e\n",
    "        plt.plot(flujo, # El valor en el eje x\n",
    "                 test_model.optimize().fluxes['BIOMASS_Ec_iML1515_core_75p37M'], # El valor en el eje y\n",
    "                 marker = '.',\n",
    "                 markersize = 7,\n",
    "                 linestyle = 'none',\n",
    "                 color = 'firebrick')\n",
    "        plt.xlabel('Glucose exchange lower bound', fontsize = 15)\n",
    "        plt.ylabel('Growth rate, h-1', fontsize = 15)\n",
    "\n",
    "plt.xlim(-21, 1)\n",
    "plt.hlines(model.optimize().fluxes['BIOMASS_Ec_iML1515_core_75p37M'], # colocamos una línea a la altura del valor \n",
    "          -23,                                                        # de la solución en el modelo default\n",
    "          2,\n",
    "          linestyle = 'dashed',\n",
    "          color = 'gray')\n",
    "plt.text(-18, 0.9, 'The solution value with default parameters', fontsize = 12)\n",
    "\n",
    "plt.tight_layout()"
   ]
  },
  {
   "cell_type": "markdown",
   "metadata": {},
   "source": [
    "Después de ejecutar la celda anterior, aparece un warning. Esto se debe a que con un valor de entrada de glucosa de 0, no hay fuentes de carbono que entren a la célula, por lo tanto, se genera un estado no-viable"
   ]
  },
  {
   "cell_type": "markdown",
   "metadata": {},
   "source": [
    "## Cambiando la fuente de carbono y añadiendo aminoácidos al medio\n",
    "\n",
    "Para cambiar de fuente de carbono, debemos quitar el flujo de entrada de glucosa y después darle flujo a la reacción de entrada de la fuente de carbono que hayamos seleccionado.  \n",
    "  \n",
    "En este ejemplo la fuente de carbono será succinato"
   ]
  },
  {
   "cell_type": "code",
   "execution_count": 125,
   "metadata": {},
   "outputs": [],
   "source": [
    "model_succ = cobra.io.load_json_model('../Modelos/iML1515.json') # cargamos el modelo en una variable con otro nombre"
   ]
  },
  {
   "cell_type": "code",
   "execution_count": 126,
   "metadata": {},
   "outputs": [
    {
     "data": {
      "text/html": [
       "\n",
       "        <table>\n",
       "            <tr>\n",
       "                <td><strong>Reaction identifier</strong></td><td>EX_glc__D_e</td>\n",
       "            </tr><tr>\n",
       "                <td><strong>Name</strong></td><td>D-Glucose exchange</td>\n",
       "            </tr><tr>\n",
       "                <td><strong>Memory address</strong></td>\n",
       "                <td>0x07f93ea372e80</td>\n",
       "            </tr><tr>\n",
       "                <td><strong>Stoichiometry</strong></td>\n",
       "                <td>\n",
       "                    <p style='text-align:right'>glc__D_e <=></p>\n",
       "                    <p style='text-align:right'>D-Glucose <=></p>\n",
       "                </td>\n",
       "            </tr><tr>\n",
       "                <td><strong>GPR</strong></td><td></td>\n",
       "            </tr><tr>\n",
       "                <td><strong>Lower bound</strong></td><td>-10.0</td>\n",
       "            </tr><tr>\n",
       "                <td><strong>Upper bound</strong></td><td>1000.0</td>\n",
       "            </tr>\n",
       "        </table>\n",
       "        "
      ],
      "text/plain": [
       "<Reaction EX_glc__D_e at 0x7f93ea372e80>"
      ]
     },
     "execution_count": 126,
     "metadata": {},
     "output_type": "execute_result"
    }
   ],
   "source": [
    "model_succ.reactions.get_by_id('EX_glc__D_e') # Vemos que el flujo de entrada de glucosa está en -10"
   ]
  },
  {
   "cell_type": "code",
   "execution_count": 127,
   "metadata": {},
   "outputs": [],
   "source": [
    "model_succ.reactions.get_by_id('EX_glc__D_e').lower_bound = 0 # Ahora modificamos el lower bound"
   ]
  },
  {
   "cell_type": "code",
   "execution_count": 128,
   "metadata": {},
   "outputs": [
    {
     "data": {
      "text/html": [
       "\n",
       "        <table>\n",
       "            <tr>\n",
       "                <td><strong>Reaction identifier</strong></td><td>EX_glc__D_e</td>\n",
       "            </tr><tr>\n",
       "                <td><strong>Name</strong></td><td>D-Glucose exchange</td>\n",
       "            </tr><tr>\n",
       "                <td><strong>Memory address</strong></td>\n",
       "                <td>0x07f93ea372e80</td>\n",
       "            </tr><tr>\n",
       "                <td><strong>Stoichiometry</strong></td>\n",
       "                <td>\n",
       "                    <p style='text-align:right'>glc__D_e --></p>\n",
       "                    <p style='text-align:right'>D-Glucose --></p>\n",
       "                </td>\n",
       "            </tr><tr>\n",
       "                <td><strong>GPR</strong></td><td></td>\n",
       "            </tr><tr>\n",
       "                <td><strong>Lower bound</strong></td><td>0</td>\n",
       "            </tr><tr>\n",
       "                <td><strong>Upper bound</strong></td><td>1000.0</td>\n",
       "            </tr>\n",
       "        </table>\n",
       "        "
      ],
      "text/plain": [
       "<Reaction EX_glc__D_e at 0x7f93ea372e80>"
      ]
     },
     "execution_count": 128,
     "metadata": {},
     "output_type": "execute_result"
    }
   ],
   "source": [
    "model_succ.reactions.get_by_id('EX_glc__D_e') # Ahora vemos que ese cambio ya se realizó en nuestro nuevo modelo"
   ]
  },
  {
   "cell_type": "markdown",
   "metadata": {},
   "source": [
    "## Lo siguiente es buscar la reacción de \"exchange\" de succinato  \n",
    "  \n",
    "Para ello, dentro de las reacciones que contengan \"EX\" en su id, buscamos la(s) que contengan \"succ\" como parte del id de la reacción."
   ]
  },
  {
   "cell_type": "code",
   "execution_count": 129,
   "metadata": {},
   "outputs": [
    {
     "name": "stdout",
     "output_type": "stream",
     "text": [
      "Succinate exchange EX_succ_e\n"
     ]
    }
   ],
   "source": [
    "for reaction in model_succ.reactions:\n",
    "    if 'EX_' in reaction.id:\n",
    "        if 'succ' in reaction.id:\n",
    "            print(reaction.name, reaction.id)"
   ]
  },
  {
   "cell_type": "markdown",
   "metadata": {},
   "source": [
    "En este caso solo hubo una reacción que cumpliera ambas condiciones: la EX_succ_e  \n",
    "  \n",
    "Podemos observar que el lower bound de esta reacción es 0"
   ]
  },
  {
   "cell_type": "code",
   "execution_count": 130,
   "metadata": {},
   "outputs": [
    {
     "data": {
      "text/html": [
       "\n",
       "        <table>\n",
       "            <tr>\n",
       "                <td><strong>Reaction identifier</strong></td><td>EX_succ_e</td>\n",
       "            </tr><tr>\n",
       "                <td><strong>Name</strong></td><td>Succinate exchange</td>\n",
       "            </tr><tr>\n",
       "                <td><strong>Memory address</strong></td>\n",
       "                <td>0x07f93ea41de10</td>\n",
       "            </tr><tr>\n",
       "                <td><strong>Stoichiometry</strong></td>\n",
       "                <td>\n",
       "                    <p style='text-align:right'>succ_e --></p>\n",
       "                    <p style='text-align:right'>Succinate --></p>\n",
       "                </td>\n",
       "            </tr><tr>\n",
       "                <td><strong>GPR</strong></td><td></td>\n",
       "            </tr><tr>\n",
       "                <td><strong>Lower bound</strong></td><td>0.0</td>\n",
       "            </tr><tr>\n",
       "                <td><strong>Upper bound</strong></td><td>1000.0</td>\n",
       "            </tr>\n",
       "        </table>\n",
       "        "
      ],
      "text/plain": [
       "<Reaction EX_succ_e at 0x7f93ea41de10>"
      ]
     },
     "execution_count": 130,
     "metadata": {},
     "output_type": "execute_result"
    }
   ],
   "source": [
    "model_succ.reactions.EX_succ_e"
   ]
  },
  {
   "cell_type": "markdown",
   "metadata": {},
   "source": [
    "Ahora hacemos que haya entrada de succinato a la célula"
   ]
  },
  {
   "cell_type": "code",
   "execution_count": 131,
   "metadata": {},
   "outputs": [],
   "source": [
    "model_succ.reactions.EX_succ_e.lower_bound = -10"
   ]
  },
  {
   "cell_type": "markdown",
   "metadata": {},
   "source": [
    "Y lo verificamos"
   ]
  },
  {
   "cell_type": "code",
   "execution_count": 132,
   "metadata": {},
   "outputs": [
    {
     "data": {
      "text/html": [
       "\n",
       "        <table>\n",
       "            <tr>\n",
       "                <td><strong>Reaction identifier</strong></td><td>EX_succ_e</td>\n",
       "            </tr><tr>\n",
       "                <td><strong>Name</strong></td><td>Succinate exchange</td>\n",
       "            </tr><tr>\n",
       "                <td><strong>Memory address</strong></td>\n",
       "                <td>0x07f93ea41de10</td>\n",
       "            </tr><tr>\n",
       "                <td><strong>Stoichiometry</strong></td>\n",
       "                <td>\n",
       "                    <p style='text-align:right'>succ_e <=></p>\n",
       "                    <p style='text-align:right'>Succinate <=></p>\n",
       "                </td>\n",
       "            </tr><tr>\n",
       "                <td><strong>GPR</strong></td><td></td>\n",
       "            </tr><tr>\n",
       "                <td><strong>Lower bound</strong></td><td>-10</td>\n",
       "            </tr><tr>\n",
       "                <td><strong>Upper bound</strong></td><td>1000.0</td>\n",
       "            </tr>\n",
       "        </table>\n",
       "        "
      ],
      "text/plain": [
       "<Reaction EX_succ_e at 0x7f93ea41de10>"
      ]
     },
     "execution_count": 132,
     "metadata": {},
     "output_type": "execute_result"
    }
   ],
   "source": [
    "model_succ.reactions.EX_succ_e"
   ]
  },
  {
   "cell_type": "markdown",
   "metadata": {},
   "source": [
    "## Ahora simulamos el modelo con una nueva fuente de carbono"
   ]
  },
  {
   "cell_type": "code",
   "execution_count": 133,
   "metadata": {},
   "outputs": [
    {
     "data": {
      "text/html": [
       "<strong><em>Optimal</em> solution with objective value 0.450</strong><br><div>\n",
       "<style scoped>\n",
       "    .dataframe tbody tr th:only-of-type {\n",
       "        vertical-align: middle;\n",
       "    }\n",
       "\n",
       "    .dataframe tbody tr th {\n",
       "        vertical-align: top;\n",
       "    }\n",
       "\n",
       "    .dataframe thead th {\n",
       "        text-align: right;\n",
       "    }\n",
       "</style>\n",
       "<table border=\"1\" class=\"dataframe\">\n",
       "  <thead>\n",
       "    <tr style=\"text-align: right;\">\n",
       "      <th></th>\n",
       "      <th>fluxes</th>\n",
       "      <th>reduced_costs</th>\n",
       "    </tr>\n",
       "  </thead>\n",
       "  <tbody>\n",
       "    <tr>\n",
       "      <th>CYTDK2</th>\n",
       "      <td>0.000000</td>\n",
       "      <td>-7.784266e-03</td>\n",
       "    </tr>\n",
       "    <tr>\n",
       "      <th>XPPT</th>\n",
       "      <td>0.000000</td>\n",
       "      <td>-1.556853e-02</td>\n",
       "    </tr>\n",
       "    <tr>\n",
       "      <th>HXPRT</th>\n",
       "      <td>0.000000</td>\n",
       "      <td>-1.556853e-02</td>\n",
       "    </tr>\n",
       "    <tr>\n",
       "      <th>NDPK5</th>\n",
       "      <td>0.012160</td>\n",
       "      <td>0.000000e+00</td>\n",
       "    </tr>\n",
       "    <tr>\n",
       "      <th>SHK3Dr</th>\n",
       "      <td>0.171536</td>\n",
       "      <td>-3.491131e-17</td>\n",
       "    </tr>\n",
       "    <tr>\n",
       "      <th>...</th>\n",
       "      <td>...</td>\n",
       "      <td>...</td>\n",
       "    </tr>\n",
       "    <tr>\n",
       "      <th>MPTS</th>\n",
       "      <td>0.000000</td>\n",
       "      <td>-1.994932e-17</td>\n",
       "    </tr>\n",
       "    <tr>\n",
       "      <th>MOCOS</th>\n",
       "      <td>0.000000</td>\n",
       "      <td>1.344411e-17</td>\n",
       "    </tr>\n",
       "    <tr>\n",
       "      <th>BMOGDS2</th>\n",
       "      <td>0.000000</td>\n",
       "      <td>-3.434807e-01</td>\n",
       "    </tr>\n",
       "    <tr>\n",
       "      <th>FESD2s</th>\n",
       "      <td>0.000000</td>\n",
       "      <td>-1.301043e-17</td>\n",
       "    </tr>\n",
       "    <tr>\n",
       "      <th>OCTNLL</th>\n",
       "      <td>0.000000</td>\n",
       "      <td>-1.221157e+00</td>\n",
       "    </tr>\n",
       "  </tbody>\n",
       "</table>\n",
       "<p>2712 rows × 2 columns</p>\n",
       "</div>"
      ],
      "text/plain": [
       "<Solution 0.450 at 0x7f93ebc85860>"
      ]
     },
     "execution_count": 133,
     "metadata": {},
     "output_type": "execute_result"
    }
   ],
   "source": [
    "model_succ.optimize()"
   ]
  },
  {
   "cell_type": "markdown",
   "metadata": {},
   "source": [
    "El succinato es una fuente de carbono pore comparada con la glucosa, de tal modo que el crecimiento es más lento.  \n",
    "  \n",
    "Podemos comparar las velocidades de crecimiento en ambos modelos"
   ]
  },
  {
   "cell_type": "code",
   "execution_count": 134,
   "metadata": {},
   "outputs": [
    {
     "name": "stdout",
     "output_type": "stream",
     "text": [
      "La velocidad de crecimiento en glucosa es 0.8769972144269683\n",
      "La velocidad de crecimiento en succinato es 0.45008625725638973\n"
     ]
    }
   ],
   "source": [
    "print('La velocidad de crecimiento en glucosa es', model.optimize().fluxes['BIOMASS_Ec_iML1515_core_75p37M'])\n",
    "print('La velocidad de crecimiento en succinato es', model_succ.optimize().fluxes['BIOMASS_Ec_iML1515_core_75p37M'])"
   ]
  },
  {
   "cell_type": "markdown",
   "metadata": {},
   "source": [
    "Una presentación más práctica de los resultados anteriores sería una donde tomemos menos decimales:"
   ]
  },
  {
   "cell_type": "code",
   "execution_count": 135,
   "metadata": {},
   "outputs": [
    {
     "name": "stdout",
     "output_type": "stream",
     "text": [
      "La velocidad de crecimiento en glucosa es 0.877\n",
      "La velocidad de crecimiento en succinato es 0.4501\n"
     ]
    }
   ],
   "source": [
    "print('La velocidad de crecimiento en glucosa es',\n",
    "      round(model.optimize().fluxes['BIOMASS_Ec_iML1515_core_75p37M'], 4))\n",
    "print('La velocidad de crecimiento en succinato es',\n",
    "      round(model_succ.optimize().fluxes['BIOMASS_Ec_iML1515_core_75p37M'], 4))"
   ]
  },
  {
   "cell_type": "markdown",
   "metadata": {},
   "source": [
    "## Añadiendo aminoácidos al medio de cultivo  \n",
    "  \n",
    "Para simular un medio de cultivo rico, debemos buscar y agregar las reacciones de exchange de cada uno de los 20 aminoácidos. \n",
    "  \n",
    "Por simplicidad, usaremos el mismo valor para el lower bound de la entrada de cada aminoácido"
   ]
  },
  {
   "cell_type": "code",
   "execution_count": 136,
   "metadata": {},
   "outputs": [],
   "source": [
    "model_aa = cobra.io.load_json_model('../Modelos/iML1515.json') # cargamos un modelo al que le adicionaremos aa"
   ]
  },
  {
   "cell_type": "markdown",
   "metadata": {},
   "source": [
    "Ahora simularemos el crecimiento de una célula con glucosa y los 20 aa en el medio"
   ]
  },
  {
   "cell_type": "code",
   "execution_count": 137,
   "metadata": {},
   "outputs": [
    {
     "data": {
      "text/html": [
       "<strong><em>Optimal</em> solution with objective value 2.010</strong><br><div>\n",
       "<style scoped>\n",
       "    .dataframe tbody tr th:only-of-type {\n",
       "        vertical-align: middle;\n",
       "    }\n",
       "\n",
       "    .dataframe tbody tr th {\n",
       "        vertical-align: top;\n",
       "    }\n",
       "\n",
       "    .dataframe thead th {\n",
       "        text-align: right;\n",
       "    }\n",
       "</style>\n",
       "<table border=\"1\" class=\"dataframe\">\n",
       "  <thead>\n",
       "    <tr style=\"text-align: right;\">\n",
       "      <th></th>\n",
       "      <th>fluxes</th>\n",
       "      <th>reduced_costs</th>\n",
       "    </tr>\n",
       "  </thead>\n",
       "  <tbody>\n",
       "    <tr>\n",
       "      <th>CYTDK2</th>\n",
       "      <td>0.000000</td>\n",
       "      <td>-1.054045e-02</td>\n",
       "    </tr>\n",
       "    <tr>\n",
       "      <th>XPPT</th>\n",
       "      <td>0.000000</td>\n",
       "      <td>3.469447e-18</td>\n",
       "    </tr>\n",
       "    <tr>\n",
       "      <th>HXPRT</th>\n",
       "      <td>0.000000</td>\n",
       "      <td>-1.054045e-02</td>\n",
       "    </tr>\n",
       "    <tr>\n",
       "      <th>NDPK5</th>\n",
       "      <td>0.000000</td>\n",
       "      <td>-0.000000e+00</td>\n",
       "    </tr>\n",
       "    <tr>\n",
       "      <th>SHK3Dr</th>\n",
       "      <td>0.001793</td>\n",
       "      <td>5.551115e-17</td>\n",
       "    </tr>\n",
       "    <tr>\n",
       "      <th>...</th>\n",
       "      <td>...</td>\n",
       "      <td>...</td>\n",
       "    </tr>\n",
       "    <tr>\n",
       "      <th>MPTS</th>\n",
       "      <td>0.000000</td>\n",
       "      <td>-3.162134e-02</td>\n",
       "    </tr>\n",
       "    <tr>\n",
       "      <th>MOCOS</th>\n",
       "      <td>0.000000</td>\n",
       "      <td>0.000000e+00</td>\n",
       "    </tr>\n",
       "    <tr>\n",
       "      <th>BMOGDS2</th>\n",
       "      <td>0.000000</td>\n",
       "      <td>-4.580703e-01</td>\n",
       "    </tr>\n",
       "    <tr>\n",
       "      <th>FESD2s</th>\n",
       "      <td>0.000000</td>\n",
       "      <td>-2.066056e-15</td>\n",
       "    </tr>\n",
       "    <tr>\n",
       "      <th>OCTNLL</th>\n",
       "      <td>0.000000</td>\n",
       "      <td>-1.363670e+00</td>\n",
       "    </tr>\n",
       "  </tbody>\n",
       "</table>\n",
       "<p>2712 rows × 2 columns</p>\n",
       "</div>"
      ],
      "text/plain": [
       "<Solution 2.010 at 0x7f93ea39beb8>"
      ]
     },
     "execution_count": 137,
     "metadata": {},
     "output_type": "execute_result"
    }
   ],
   "source": [
    "entrada_de_aminoacidos = -1 # Esta será el lower bound para todas las reacciones de entrada de aa\n",
    "\n",
    "model_aa.reactions.EX_gly_e.lower_bound = entrada_de_aminoacidos    # Glicina\n",
    "model_aa.reactions.EX_ala__L_e.lower_bound = entrada_de_aminoacidos # Alanina\n",
    "model_aa.reactions.EX_arg__L_e.lower_bound = entrada_de_aminoacidos # Arginina\n",
    "model_aa.reactions.EX_asn__L_e.lower_bound = entrada_de_aminoacidos # Asparagina\n",
    "model_aa.reactions.EX_asp__L_e.lower_bound = entrada_de_aminoacidos # Aspartato\n",
    "model_aa.reactions.EX_cys__L_e.lower_bound = entrada_de_aminoacidos # Cisteina\n",
    "model_aa.reactions.EX_glu__L_e.lower_bound = entrada_de_aminoacidos # Glutamato\n",
    "model_aa.reactions.EX_gln__L_e.lower_bound = entrada_de_aminoacidos # Glutamina\n",
    "model_aa.reactions.EX_his__L_e.lower_bound = entrada_de_aminoacidos # Histidina\n",
    "model_aa.reactions.EX_ile__L_e.lower_bound = entrada_de_aminoacidos # Isoleucina\n",
    "model_aa.reactions.EX_leu__L_e.lower_bound = entrada_de_aminoacidos # Leucina\n",
    "model_aa.reactions.EX_lys__L_e.lower_bound = entrada_de_aminoacidos # Lysina\n",
    "model_aa.reactions.EX_met__L_e.lower_bound = entrada_de_aminoacidos # Metionina\n",
    "model_aa.reactions.EX_phe__L_e.lower_bound = entrada_de_aminoacidos # Fenilalanina\n",
    "model_aa.reactions.EX_pro__L_e.lower_bound = entrada_de_aminoacidos # Prolina\n",
    "model_aa.reactions.EX_ser__L_e.lower_bound = entrada_de_aminoacidos # Serina\n",
    "model_aa.reactions.EX_thr__L_e.lower_bound = entrada_de_aminoacidos # Treonina\n",
    "model_aa.reactions.EX_trp__L_e.lower_bound = entrada_de_aminoacidos # Triptofano\n",
    "model_aa.reactions.EX_tyr__L_e.lower_bound = entrada_de_aminoacidos # Tirosina\n",
    "model_aa.reactions.EX_val__L_e.lower_bound = entrada_de_aminoacidos # Valina\n",
    "\n",
    "model_aa.optimize()"
   ]
  },
  {
   "cell_type": "markdown",
   "metadata": {},
   "source": [
    "Experimentalmente, el crecimiento más rápido de E. coli (en medio con aa) es aproximadamente 2 h-1. La simulación anterior, con una entrada de aa de -1 y usando glucosa como fuente de, carbono da una solución bastante cercana a la realidad."
   ]
  },
  {
   "cell_type": "code",
   "execution_count": 138,
   "metadata": {},
   "outputs": [
    {
     "data": {
      "image/png": "[encoded data removed]",
      "text/plain": [
       "<matplotlib.figure.Figure at 0x7f93e97658d0>"
      ]
     },
     "metadata": {
      "needs_background": "light"
     },
     "output_type": "display_data"
    }
   ],
   "source": [
    "flujos_de_entrada = [-20, -10, -1, -0.1, 0] # flujos de entrada de aa\n",
    "\n",
    "plt.figure(figsize = (7, 6))\n",
    "\n",
    "plt.title('Efecto del flujo de entrada de aa sobre la velocidad de crecimiento', fontsize = 13)\n",
    "\n",
    "for flujo in flujos_de_entrada:\n",
    "    with model_aa as test_model:\n",
    "        test_model.reactions.EX_gly_e.lower_bound = flujo\n",
    "        test_model.reactions.EX_ala__L_e.lower_bound = flujo\n",
    "        test_model.reactions.EX_arg__L_e.lower_bound = flujo\n",
    "        test_model.reactions.EX_asn__L_e.lower_bound = flujo\n",
    "        test_model.reactions.EX_asp__L_e.lower_bound = flujo\n",
    "        test_model.reactions.EX_cys__L_e.lower_bound = flujo\n",
    "        test_model.reactions.EX_glu__L_e.lower_bound = flujo\n",
    "        test_model.reactions.EX_gln__L_e.lower_bound = flujo\n",
    "        test_model.reactions.EX_his__L_e.lower_bound = flujo\n",
    "        test_model.reactions.EX_ile__L_e.lower_bound = flujo\n",
    "        test_model.reactions.EX_leu__L_e.lower_bound = flujo\n",
    "        test_model.reactions.EX_lys__L_e.lower_bound = flujo\n",
    "        test_model.reactions.EX_met__L_e.lower_bound = flujo\n",
    "        test_model.reactions.EX_phe__L_e.lower_bound = flujo\n",
    "        test_model.reactions.EX_pro__L_e.lower_bound = flujo\n",
    "        test_model.reactions.EX_ser__L_e.lower_bound = flujo\n",
    "        test_model.reactions.EX_thr__L_e.lower_bound = flujo\n",
    "        test_model.reactions.EX_trp__L_e.lower_bound = flujo\n",
    "        test_model.reactions.EX_tyr__L_e.lower_bound = flujo\n",
    "        test_model.reactions.EX_val__L_e.lower_bound = flujo\n",
    "        plt.plot(flujo,\n",
    "                 test_model.optimize().fluxes['BIOMASS_Ec_iML1515_core_75p37M'],\n",
    "                 marker = '.',\n",
    "                 markersize = 7,\n",
    "                 linestyle = 'none',\n",
    "                 color = 'firebrick')\n",
    "        plt.xlabel('aa exchange lower bound', fontsize = 15)\n",
    "        plt.ylabel('Growth rate, h-1', fontsize = 15)\n",
    "plt.xlim(-21, 1)\n",
    "plt.hlines(model_aa.optimize().fluxes['BIOMASS_Ec_iML1515_core_75p37M'], # colocamos una línea a la altura del valor \n",
    "          -23,                                                        # de la solución en el modelo default\n",
    "          2,\n",
    "          linestyle = 'dashed',\n",
    "          color = 'gray')\n",
    "plt.text(-18, 2.2, 'The solution value with aa exchange as -1', fontsize = 12)\n",
    "\n",
    "plt.tight_layout()"
   ]
  },
  {
   "cell_type": "markdown",
   "metadata": {},
   "source": [
    "Como vemos, -1 es el mejor valor. Cualquier cantidad por encima de este, dará soluciones exageradas"
   ]
  },
  {
   "cell_type": "code",
   "execution_count": null,
   "metadata": {},
   "outputs": [],
   "source": []
  }
 ],
 "metadata": {
  "kernelspec": {
   "display_name": "Python 3",
   "language": "python",
   "name": "python3"
  },
  "language_info": {
   "codemirror_mode": {
    "name": "ipython",
    "version": 3
   },
   "file_extension": ".py",
   "mimetype": "text/x-python",
   "name": "python",
   "nbconvert_exporter": "python",
   "pygments_lexer": "ipython3",
   "version": "3.6.9"
  }
 },
 "nbformat": 4,
 "nbformat_minor": 2
}
